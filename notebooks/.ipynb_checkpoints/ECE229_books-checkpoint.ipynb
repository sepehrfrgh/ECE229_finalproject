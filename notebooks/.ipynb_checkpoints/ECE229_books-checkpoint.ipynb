{
 "cells": [
  {
   "cell_type": "markdown",
   "metadata": {},
   "source": [
    "<div style=\"background-color:#ffcc00;\"><span style=\"color:navy;\">Importing Libraries</span></div>"
   ]
  },
  {
   "cell_type": "code",
   "execution_count": 1,
   "metadata": {},
   "outputs": [],
   "source": [
    "import pandas as pd\n",
    "import numpy as np"
   ]
  },
  {
   "cell_type": "markdown",
   "metadata": {},
   "source": [
    "<div style=\"background-color:#ffcc00;\"><span style=\"color:navy;\">Loading the dataset and initial analysis</span></div>"
   ]
  },
  {
   "cell_type": "code",
   "execution_count": 2,
   "metadata": {},
   "outputs": [],
   "source": [
    "books = pd.read_csv('../data/book_data.csv',error_bad_lines = False) \n",
    "#error_bad_lines : boolean, default True Lines with too many fields (e.g. a csv line with too many commas) will by default cause an exception to be raised, and no DataFrame will be returned. If False, then these “bad lines” will dropped from the DataFrame that is returned. (Only valid with C parser)"
   ]
  },
  {
   "cell_type": "code",
   "execution_count": 3,
   "metadata": {},
   "outputs": [
    {
     "name": "stdout",
     "output_type": "stream",
     "text": [
      "There are 54301 rows and 12 columns in the dataset.\n"
     ]
    }
   ],
   "source": [
    "print(\"There are {} rows and {} columns in the dataset.\".format(books.shape[0], books.shape[1]))"
   ]
  },
  {
   "cell_type": "code",
   "execution_count": 4,
   "metadata": {},
   "outputs": [
    {
     "data": {
      "text/plain": [
       "array(['book_authors', 'book_desc', 'book_edition', 'book_format',\n",
       "       'book_isbn', 'book_pages', 'book_rating', 'book_rating_count',\n",
       "       'book_review_count', 'book_title', 'genres', 'image_url'],\n",
       "      dtype=object)"
      ]
     },
     "execution_count": 4,
     "metadata": {},
     "output_type": "execute_result"
    }
   ],
   "source": [
    "#columns\n",
    "np.array(books.columns)"
   ]
  },
  {
   "cell_type": "markdown",
   "metadata": {},
   "source": [
    "<span style=\"color:#747678; font-size:14px;\">Columns are <strong>'book_authors', 'book_desc', 'book_edition', 'book_format',\n",
    "       'book_isbn', 'book_pages', 'book_rating', 'book_rating_count',\n",
    "    'book_review_count', 'book_title', 'genres', 'image_url'</strong></span>"
   ]
  },
  {
   "cell_type": "code",
   "execution_count": 5,
   "metadata": {},
   "outputs": [
    {
     "data": {
      "text/html": [
       "<div>\n",
       "<style scoped>\n",
       "    .dataframe tbody tr th:only-of-type {\n",
       "        vertical-align: middle;\n",
       "    }\n",
       "\n",
       "    .dataframe tbody tr th {\n",
       "        vertical-align: top;\n",
       "    }\n",
       "\n",
       "    .dataframe thead th {\n",
       "        text-align: right;\n",
       "    }\n",
       "</style>\n",
       "<table border=\"1\" class=\"dataframe\">\n",
       "  <thead>\n",
       "    <tr style=\"text-align: right;\">\n",
       "      <th></th>\n",
       "      <th>book_authors</th>\n",
       "      <th>book_desc</th>\n",
       "      <th>book_edition</th>\n",
       "      <th>book_format</th>\n",
       "      <th>book_isbn</th>\n",
       "      <th>book_pages</th>\n",
       "      <th>book_rating</th>\n",
       "      <th>book_rating_count</th>\n",
       "      <th>book_review_count</th>\n",
       "      <th>book_title</th>\n",
       "      <th>genres</th>\n",
       "      <th>image_url</th>\n",
       "    </tr>\n",
       "  </thead>\n",
       "  <tbody>\n",
       "    <tr>\n",
       "      <th>0</th>\n",
       "      <td>Suzanne Collins</td>\n",
       "      <td>Winning will make you famous. Losing means cer...</td>\n",
       "      <td>NaN</td>\n",
       "      <td>Hardcover</td>\n",
       "      <td>9.78044E+12</td>\n",
       "      <td>374 pages</td>\n",
       "      <td>4.33</td>\n",
       "      <td>5519135</td>\n",
       "      <td>160706</td>\n",
       "      <td>The Hunger Games</td>\n",
       "      <td>Young Adult|Fiction|Science Fiction|Dystopia|F...</td>\n",
       "      <td>https://images.gr-assets.com/books/1447303603l...</td>\n",
       "    </tr>\n",
       "    <tr>\n",
       "      <th>1</th>\n",
       "      <td>J.K. Rowling|Mary GrandPré</td>\n",
       "      <td>There is a door at the end of a silent corrido...</td>\n",
       "      <td>US Edition</td>\n",
       "      <td>Paperback</td>\n",
       "      <td>9.78044E+12</td>\n",
       "      <td>870 pages</td>\n",
       "      <td>4.48</td>\n",
       "      <td>2041594</td>\n",
       "      <td>33264</td>\n",
       "      <td>Harry Potter and the Order of the Phoenix</td>\n",
       "      <td>Fantasy|Young Adult|Fiction</td>\n",
       "      <td>https://images.gr-assets.com/books/1255614970l...</td>\n",
       "    </tr>\n",
       "    <tr>\n",
       "      <th>2</th>\n",
       "      <td>Harper Lee</td>\n",
       "      <td>The unforgettable novel of a childhood in a sl...</td>\n",
       "      <td>50th Anniversary</td>\n",
       "      <td>Paperback</td>\n",
       "      <td>9.78006E+12</td>\n",
       "      <td>324 pages</td>\n",
       "      <td>4.27</td>\n",
       "      <td>3745197</td>\n",
       "      <td>79450</td>\n",
       "      <td>To Kill a Mockingbird</td>\n",
       "      <td>Classics|Fiction|Historical|Historical Fiction...</td>\n",
       "      <td>https://images.gr-assets.com/books/1361975680l...</td>\n",
       "    </tr>\n",
       "    <tr>\n",
       "      <th>3</th>\n",
       "      <td>Jane Austen|Anna Quindlen|Mrs. Oliphant|George...</td>\n",
       "      <td>«È cosa ormai risaputa che a uno scapolo in po...</td>\n",
       "      <td>Modern Library Classics, USA / CAN</td>\n",
       "      <td>Paperback</td>\n",
       "      <td>9.78068E+12</td>\n",
       "      <td>279 pages</td>\n",
       "      <td>4.25</td>\n",
       "      <td>2453620</td>\n",
       "      <td>54322</td>\n",
       "      <td>Pride and Prejudice</td>\n",
       "      <td>Classics|Fiction|Romance</td>\n",
       "      <td>https://images.gr-assets.com/books/1320399351l...</td>\n",
       "    </tr>\n",
       "    <tr>\n",
       "      <th>4</th>\n",
       "      <td>Stephenie Meyer</td>\n",
       "      <td>About three things I was absolutely positive.F...</td>\n",
       "      <td>NaN</td>\n",
       "      <td>Paperback</td>\n",
       "      <td>9.78032E+12</td>\n",
       "      <td>498 pages</td>\n",
       "      <td>3.58</td>\n",
       "      <td>4281268</td>\n",
       "      <td>97991</td>\n",
       "      <td>Twilight</td>\n",
       "      <td>Young Adult|Fantasy|Romance|Paranormal|Vampire...</td>\n",
       "      <td>https://images.gr-assets.com/books/1361039443l...</td>\n",
       "    </tr>\n",
       "  </tbody>\n",
       "</table>\n",
       "</div>"
      ],
      "text/plain": [
       "                                        book_authors  \\\n",
       "0                                    Suzanne Collins   \n",
       "1                         J.K. Rowling|Mary GrandPré   \n",
       "2                                         Harper Lee   \n",
       "3  Jane Austen|Anna Quindlen|Mrs. Oliphant|George...   \n",
       "4                                    Stephenie Meyer   \n",
       "\n",
       "                                           book_desc  \\\n",
       "0  Winning will make you famous. Losing means cer...   \n",
       "1  There is a door at the end of a silent corrido...   \n",
       "2  The unforgettable novel of a childhood in a sl...   \n",
       "3  «È cosa ormai risaputa che a uno scapolo in po...   \n",
       "4  About three things I was absolutely positive.F...   \n",
       "\n",
       "                         book_edition book_format    book_isbn book_pages  \\\n",
       "0                                 NaN   Hardcover  9.78044E+12  374 pages   \n",
       "1                          US Edition   Paperback  9.78044E+12  870 pages   \n",
       "2                    50th Anniversary   Paperback  9.78006E+12  324 pages   \n",
       "3  Modern Library Classics, USA / CAN   Paperback  9.78068E+12  279 pages   \n",
       "4                                 NaN   Paperback  9.78032E+12  498 pages   \n",
       "\n",
       "   book_rating  book_rating_count  book_review_count  \\\n",
       "0         4.33            5519135             160706   \n",
       "1         4.48            2041594              33264   \n",
       "2         4.27            3745197              79450   \n",
       "3         4.25            2453620              54322   \n",
       "4         3.58            4281268              97991   \n",
       "\n",
       "                                  book_title  \\\n",
       "0                           The Hunger Games   \n",
       "1  Harry Potter and the Order of the Phoenix   \n",
       "2                      To Kill a Mockingbird   \n",
       "3                        Pride and Prejudice   \n",
       "4                                   Twilight   \n",
       "\n",
       "                                              genres  \\\n",
       "0  Young Adult|Fiction|Science Fiction|Dystopia|F...   \n",
       "1                        Fantasy|Young Adult|Fiction   \n",
       "2  Classics|Fiction|Historical|Historical Fiction...   \n",
       "3                           Classics|Fiction|Romance   \n",
       "4  Young Adult|Fantasy|Romance|Paranormal|Vampire...   \n",
       "\n",
       "                                           image_url  \n",
       "0  https://images.gr-assets.com/books/1447303603l...  \n",
       "1  https://images.gr-assets.com/books/1255614970l...  \n",
       "2  https://images.gr-assets.com/books/1361975680l...  \n",
       "3  https://images.gr-assets.com/books/1320399351l...  \n",
       "4  https://images.gr-assets.com/books/1361039443l...  "
      ]
     },
     "execution_count": 5,
     "metadata": {},
     "output_type": "execute_result"
    }
   ],
   "source": [
    "books.head()"
   ]
  },
  {
   "cell_type": "markdown",
   "metadata": {},
   "source": [
    "<div style=\"background-color:#ffcc00;\"><span style=\"color:navy;\">removing useless columns</span></div>"
   ]
  },
  {
   "cell_type": "code",
   "execution_count": 6,
   "metadata": {},
   "outputs": [],
   "source": [
    "del books['book_format']"
   ]
  },
  {
   "cell_type": "code",
   "execution_count": 7,
   "metadata": {},
   "outputs": [],
   "source": [
    "del books['book_isbn']"
   ]
  },
  {
   "cell_type": "markdown",
   "metadata": {},
   "source": [
    "<div style=\"background-color:#ffcc00;\"><span style=\"color:navy;\">checking for null cells</span></div>"
   ]
  },
  {
   "cell_type": "code",
   "execution_count": 8,
   "metadata": {},
   "outputs": [
    {
     "data": {
      "text/plain": [
       "book_edition    48848\n",
       "genres           3242\n",
       "book_pages       2522\n",
       "book_desc        1331\n",
       "image_url         683\n",
       "dtype: int64"
      ]
     },
     "execution_count": 8,
     "metadata": {},
     "output_type": "execute_result"
    }
   ],
   "source": [
    "#columns which contain null values and the number of null elements\n",
    "null_counts = books.isnull().sum()\n",
    "null_counts[null_counts > 0].sort_values(ascending=False) #null_counts in each column (sorted)"
   ]
  },
  {
   "cell_type": "code",
   "execution_count": 9,
   "metadata": {},
   "outputs": [
    {
     "name": "stdout",
     "output_type": "stream",
     "text": [
      "rows before filtering null genres: 54301\n",
      "rows after filtering null genres: 51059\n"
     ]
    }
   ],
   "source": [
    "#books = books[books['book_title'].notna()] #removing nulls in book_title column\n",
    "print(\"rows before filtering null genres: {}\".format(books.shape[0]))\n",
    "books = books[books['genres'].notna()] #removing nulls in genres column\n",
    "print(\"rows after filtering null genres: {}\".format(books.shape[0]))"
   ]
  },
  {
   "cell_type": "markdown",
   "metadata": {},
   "source": [
    "<div style=\"background-color:#ffcc00;\"><span style=\"color:navy;\">removing duplicate rows (based on title)</span></div>"
   ]
  },
  {
   "cell_type": "code",
   "execution_count": 10,
   "metadata": {},
   "outputs": [
    {
     "name": "stdout",
     "output_type": "stream",
     "text": [
      "rows before filtering duplicate row based on title: 51059\n"
     ]
    }
   ],
   "source": [
    "print(\"rows before filtering duplicate row based on title: {}\".format(books.shape[0]))"
   ]
  },
  {
   "cell_type": "code",
   "execution_count": 11,
   "metadata": {},
   "outputs": [],
   "source": [
    "books.drop_duplicates(subset =\"book_title\",\n",
    "                     keep = False, inplace = True)"
   ]
  },
  {
   "cell_type": "code",
   "execution_count": 12,
   "metadata": {},
   "outputs": [
    {
     "name": "stdout",
     "output_type": "stream",
     "text": [
      "rows after filtering duplicate row based on title: 41837\n"
     ]
    }
   ],
   "source": [
    "print(\"rows after filtering duplicate row based on title: {}\".format(books.shape[0]))"
   ]
  },
  {
   "cell_type": "markdown",
   "metadata": {},
   "source": [
    "<div style=\"background-color:#ffcc00;\"><span style=\"color:navy;\">removing \"pages\" from column \"book_pages\"</span></div>"
   ]
  },
  {
   "cell_type": "code",
   "execution_count": 13,
   "metadata": {},
   "outputs": [],
   "source": [
    "del books['book_pages']"
   ]
  },
  {
   "cell_type": "code",
   "execution_count": 14,
   "metadata": {},
   "outputs": [
    {
     "data": {
      "text/html": [
       "<div>\n",
       "<style scoped>\n",
       "    .dataframe tbody tr th:only-of-type {\n",
       "        vertical-align: middle;\n",
       "    }\n",
       "\n",
       "    .dataframe tbody tr th {\n",
       "        vertical-align: top;\n",
       "    }\n",
       "\n",
       "    .dataframe thead th {\n",
       "        text-align: right;\n",
       "    }\n",
       "</style>\n",
       "<table border=\"1\" class=\"dataframe\">\n",
       "  <thead>\n",
       "    <tr style=\"text-align: right;\">\n",
       "      <th></th>\n",
       "      <th>book_authors</th>\n",
       "      <th>book_desc</th>\n",
       "      <th>book_edition</th>\n",
       "      <th>book_rating</th>\n",
       "      <th>book_rating_count</th>\n",
       "      <th>book_review_count</th>\n",
       "      <th>book_title</th>\n",
       "      <th>genres</th>\n",
       "      <th>image_url</th>\n",
       "    </tr>\n",
       "  </thead>\n",
       "  <tbody>\n",
       "    <tr>\n",
       "      <th>1</th>\n",
       "      <td>J.K. Rowling|Mary GrandPré</td>\n",
       "      <td>There is a door at the end of a silent corrido...</td>\n",
       "      <td>US Edition</td>\n",
       "      <td>4.48</td>\n",
       "      <td>2041594</td>\n",
       "      <td>33264</td>\n",
       "      <td>Harry Potter and the Order of the Phoenix</td>\n",
       "      <td>Fantasy|Young Adult|Fiction</td>\n",
       "      <td>https://images.gr-assets.com/books/1255614970l...</td>\n",
       "    </tr>\n",
       "    <tr>\n",
       "      <th>9</th>\n",
       "      <td>J.R.R. Tolkien</td>\n",
       "      <td>لجزء الثالث من ملحمة جيه أر أر تولكين الرائعة ...</td>\n",
       "      <td>Hobbit Movie Tie-in Boxed set</td>\n",
       "      <td>4.59</td>\n",
       "      <td>99793</td>\n",
       "      <td>1652</td>\n",
       "      <td>J.R.R. Tolkien 4-Book Boxed Set: The Hobbit an...</td>\n",
       "      <td>Fantasy|Fiction|Classics</td>\n",
       "      <td>https://images.gr-assets.com/books/1346072396l...</td>\n",
       "    </tr>\n",
       "    <tr>\n",
       "      <th>11</th>\n",
       "      <td>Douglas Adams</td>\n",
       "      <td>Seconds before the Earth is demolished to make...</td>\n",
       "      <td>NaN</td>\n",
       "      <td>4.21</td>\n",
       "      <td>1155911</td>\n",
       "      <td>23919</td>\n",
       "      <td>The Hitchhiker's Guide to the Galaxy</td>\n",
       "      <td>Science Fiction|Fiction|Humor|Fantasy|Classics</td>\n",
       "      <td>https://images.gr-assets.com/books/1388282444l...</td>\n",
       "    </tr>\n",
       "    <tr>\n",
       "      <th>12</th>\n",
       "      <td>Shel Silverstein</td>\n",
       "      <td>\"Once there was a tree...and she loved a littl...</td>\n",
       "      <td>NaN</td>\n",
       "      <td>4.37</td>\n",
       "      <td>789681</td>\n",
       "      <td>15694</td>\n",
       "      <td>The Giving Tree</td>\n",
       "      <td>Childrens|Childrens|Picture Books|Classics|Fic...</td>\n",
       "      <td>https://images.gr-assets.com/books/1174210942l...</td>\n",
       "    </tr>\n",
       "    <tr>\n",
       "      <th>14</th>\n",
       "      <td>Dan Brown</td>\n",
       "      <td>An ingenious code hidden in the works of Leona...</td>\n",
       "      <td>NaN</td>\n",
       "      <td>3.81</td>\n",
       "      <td>1668594</td>\n",
       "      <td>43699</td>\n",
       "      <td>The Da Vinci Code</td>\n",
       "      <td>Fiction|Mystery|Thriller</td>\n",
       "      <td>https://images.gr-assets.com/books/1303252999l...</td>\n",
       "    </tr>\n",
       "  </tbody>\n",
       "</table>\n",
       "</div>"
      ],
      "text/plain": [
       "                  book_authors  \\\n",
       "1   J.K. Rowling|Mary GrandPré   \n",
       "9               J.R.R. Tolkien   \n",
       "11               Douglas Adams   \n",
       "12            Shel Silverstein   \n",
       "14                   Dan Brown   \n",
       "\n",
       "                                            book_desc  \\\n",
       "1   There is a door at the end of a silent corrido...   \n",
       "9   لجزء الثالث من ملحمة جيه أر أر تولكين الرائعة ...   \n",
       "11  Seconds before the Earth is demolished to make...   \n",
       "12  \"Once there was a tree...and she loved a littl...   \n",
       "14  An ingenious code hidden in the works of Leona...   \n",
       "\n",
       "                     book_edition  book_rating  book_rating_count  \\\n",
       "1                      US Edition         4.48            2041594   \n",
       "9   Hobbit Movie Tie-in Boxed set         4.59              99793   \n",
       "11                            NaN         4.21            1155911   \n",
       "12                            NaN         4.37             789681   \n",
       "14                            NaN         3.81            1668594   \n",
       "\n",
       "    book_review_count                                         book_title  \\\n",
       "1               33264          Harry Potter and the Order of the Phoenix   \n",
       "9                1652  J.R.R. Tolkien 4-Book Boxed Set: The Hobbit an...   \n",
       "11              23919               The Hitchhiker's Guide to the Galaxy   \n",
       "12              15694                                    The Giving Tree   \n",
       "14              43699                                  The Da Vinci Code   \n",
       "\n",
       "                                               genres  \\\n",
       "1                         Fantasy|Young Adult|Fiction   \n",
       "9                            Fantasy|Fiction|Classics   \n",
       "11     Science Fiction|Fiction|Humor|Fantasy|Classics   \n",
       "12  Childrens|Childrens|Picture Books|Classics|Fic...   \n",
       "14                           Fiction|Mystery|Thriller   \n",
       "\n",
       "                                            image_url  \n",
       "1   https://images.gr-assets.com/books/1255614970l...  \n",
       "9   https://images.gr-assets.com/books/1346072396l...  \n",
       "11  https://images.gr-assets.com/books/1388282444l...  \n",
       "12  https://images.gr-assets.com/books/1174210942l...  \n",
       "14  https://images.gr-assets.com/books/1303252999l...  "
      ]
     },
     "execution_count": 14,
     "metadata": {},
     "output_type": "execute_result"
    }
   ],
   "source": [
    "books.head()"
   ]
  },
  {
   "cell_type": "markdown",
   "metadata": {},
   "source": [
    "<div style=\"background-color:#ffcc00;\"><span style=\"color:navy;\">lowercasing \"book_authors\" and \"book_title\" columns</span></div>"
   ]
  },
  {
   "cell_type": "markdown",
   "metadata": {},
   "source": [
    "<div style=\"background-color:#ffcc00;\"><span style=\"color:navy;\">lowercasing all words in \"book_desc\" column</span></div>"
   ]
  },
  {
   "cell_type": "code",
   "execution_count": 15,
   "metadata": {},
   "outputs": [
    {
     "data": {
      "text/plain": [
       "1        j.k. rowling|mary grandpré\n",
       "9                    j.r.r. tolkien\n",
       "11                    douglas adams\n",
       "12                 shel silverstein\n",
       "14                        dan brown\n",
       "                    ...            \n",
       "54296                 howard megdal\n",
       "54297                 howard megdal\n",
       "54298                 howard megdal\n",
       "54299        mimi baird|eve claxton\n",
       "54300                    leah price\n",
       "Name: book_authors, Length: 41837, dtype: object"
      ]
     },
     "execution_count": 15,
     "metadata": {},
     "output_type": "execute_result"
    }
   ],
   "source": [
    "books['book_authors'].str.lower()"
   ]
  },
  {
   "cell_type": "code",
   "execution_count": 16,
   "metadata": {},
   "outputs": [
    {
     "data": {
      "text/plain": [
       "1                harry potter and the order of the phoenix\n",
       "9        j.r.r. tolkien 4-book boxed set: the hobbit an...\n",
       "11                    the hitchhiker's guide to the galaxy\n",
       "12                                         the giving tree\n",
       "14                                       the da vinci code\n",
       "                               ...                        \n",
       "54296    taking the field: a fan's quest to run the tea...\n",
       "54297    the baseball talmud: koufax, greenberg, and th...\n",
       "54298    wilpon's folly - the story of a man, his fortu...\n",
       "54299    he wanted the moon: the madness and medical ge...\n",
       "54300    the anthology and the rise of the novel: from ...\n",
       "Name: book_title, Length: 41837, dtype: object"
      ]
     },
     "execution_count": 16,
     "metadata": {},
     "output_type": "execute_result"
    }
   ],
   "source": [
    "books['book_title'].str.lower()"
   ]
  },
  {
   "cell_type": "code",
   "execution_count": 17,
   "metadata": {},
   "outputs": [
    {
     "data": {
      "text/plain": [
       "1        there is a door at the end of a silent corrido...\n",
       "9        لجزء الثالث من ملحمة جيه أر أر تولكين الرائعة ...\n",
       "11       seconds before the earth is demolished to make...\n",
       "12       \"once there was a tree...and she loved a littl...\n",
       "14       an ingenious code hidden in the works of leona...\n",
       "                               ...                        \n",
       "54296    in this fearless and half-crazy story, howard ...\n",
       "54297    from the icons of the game to the players who ...\n",
       "54298                                                  NaN\n",
       "54299    soon to be a major motion picture, from brad p...\n",
       "54300    the anthology and the rise of the novel brings...\n",
       "Name: book_desc, Length: 41837, dtype: object"
      ]
     },
     "execution_count": 17,
     "metadata": {},
     "output_type": "execute_result"
    }
   ],
   "source": [
    "books['book_desc'].str.lower()"
   ]
  },
  {
   "cell_type": "markdown",
   "metadata": {},
   "source": [
    "<div style=\"background-color:#ffcc00;\"><span style=\"color:navy;\">checking for url exist for all rows of \"image_url\"</span></div>"
   ]
  },
  {
   "cell_type": "code",
   "execution_count": 18,
   "metadata": {},
   "outputs": [],
   "source": [
    "books = books[books['image_url'].notna()] #removing nulls in genres column"
   ]
  },
  {
   "cell_type": "code",
   "execution_count": 19,
   "metadata": {},
   "outputs": [
    {
     "name": "stdout",
     "output_type": "stream",
     "text": [
      "rows after filtering null based on image url: 41498\n"
     ]
    }
   ],
   "source": [
    "print(\"rows after filtering null based on image url: {}\".format(books.shape[0]))"
   ]
  },
  {
   "cell_type": "markdown",
   "metadata": {},
   "source": [
    "<div style=\"background-color:#ffcc00;\"><span style=\"color:navy;\">analysis on \"book_edition\" column</span></div>"
   ]
  },
  {
   "cell_type": "markdown",
   "metadata": {},
   "source": [
    "<div style=\"background-color:cyan;\"><span style=\"color:navy;\">filtering tasks</span></div>"
   ]
  },
  {
   "cell_type": "markdown",
   "metadata": {},
   "source": [
    "<div style=\"background-color:#ffcc00;\"><span style=\"color:navy;\">Functions for filtering based on different features</span></div>"
   ]
  },
  {
   "cell_type": "code",
   "execution_count": null,
   "metadata": {},
   "outputs": [],
   "source": []
  }
 ],
 "metadata": {
  "kernelspec": {
   "display_name": "Python 3",
   "language": "python",
   "name": "python3"
  },
  "language_info": {
   "codemirror_mode": {
    "name": "ipython",
    "version": 3
   },
   "file_extension": ".py",
   "mimetype": "text/x-python",
   "name": "python",
   "nbconvert_exporter": "python",
   "pygments_lexer": "ipython3",
   "version": "3.7.0"
  }
 },
 "nbformat": 4,
 "nbformat_minor": 4
}
