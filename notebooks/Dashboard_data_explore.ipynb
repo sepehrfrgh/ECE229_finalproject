{
 "cells": [
  {
   "cell_type": "code",
   "execution_count": 2,
   "metadata": {},
   "outputs": [],
   "source": [
    "import dash\n",
    "import dash_core_components as dcc\n",
    "import dash_html_components as html\n",
    "from dash.dependencies import Input, Output\n",
    "import plotly.express as px\n",
    "\n",
    "import pandas as pd\n",
    "import numpy as np\n",
    "import matplotlib.pyplot as plt\n",
    "%matplotlib inline\n",
    "import seaborn as sns"
   ]
  },
  {
   "cell_type": "code",
   "execution_count": null,
   "metadata": {},
   "outputs": [],
   "source": [
    "# pip install dash"
   ]
  },
  {
   "cell_type": "code",
   "execution_count": null,
   "metadata": {},
   "outputs": [],
   "source": [
    "df = pd.read_csv('../data/books_added_amzn.csv',error_bad_lines = False)\n",
    "print(\"There are {} rows and {} columns in the dataset.\".format(df.shape[0], df.shape[1]))\n",
    "df.head()\n",
    "#error_bad_lines : boolean, default True Lines with too many fields (e.g. a csv line with too many commas) will by default cause an exception to be raised, and no DataFrame will be returned. If False, then these “bad lines” will dropped from the DataFrame that is returned. (Only valid with C parser)"
   ]
  },
  {
   "cell_type": "code",
   "execution_count": null,
   "metadata": {},
   "outputs": [],
   "source": []
  },
  {
   "cell_type": "code",
   "execution_count": null,
   "metadata": {},
   "outputs": [],
   "source": [
    "# max(df['book_rating'].unique())\n",
    "# df_count_author.head()"
   ]
  },
  {
   "cell_type": "code",
   "execution_count": null,
   "metadata": {},
   "outputs": [],
   "source": [
    "df_count_author = df.groupby(df['book_authors']).agg('mean')\n",
    "\n",
    "# df_count_author.loc['(US)John G. Neihardt']['book_rating']\n",
    "# df_count_author['book_rating']=df_count_author['book_rating'].apply(np.ceil)\n",
    "df_count_author=df_count_author.sort_values(by=['book_rating'],ascending=False)\n",
    "df_count_author.head()\n",
    "# df_count_author['book_rating'].unique()[0]\n",
    "rating_count={}\n",
    "for rate in df_count_author['book_rating'].unique():\n",
    "    rating_count[rate]= df_count_author.loc[df_count_author['book_rating'] ==rate].shape[0]\n",
    "# df_count_author.loc[df_count_author['book_rating'] ==5.0]\n",
    "# df_count_author.loc[]\n",
    "rating_count"
   ]
  },
  {
   "cell_type": "code",
   "execution_count": null,
   "metadata": {},
   "outputs": [],
   "source": [
    "# plt.bar(rating_count.keys(),rating_count.values())\n"
   ]
  },
  {
   "cell_type": "code",
   "execution_count": null,
   "metadata": {},
   "outputs": [],
   "source": [
    "# df = px.data.tips()\n",
    "# fig = px.histogram(df_count_author, x=\"book_rating\")\n",
    "# fig.show()"
   ]
  },
  {
   "cell_type": "code",
   "execution_count": null,
   "metadata": {},
   "outputs": [],
   "source": [
    "app = dash.Dash()\n",
    "Data_Exploration = html.Div([\n",
    "    html.H1('Data Exploration'),\n",
    "#     html.Div('Dash - data framework from plotly'),\n",
    "    \n",
    "    dcc.Graph(\n",
    "        id='graph'\n",
    "    ),\n",
    "    html.Div('Select an Attribute:'),\n",
    "    \n",
    "    dcc.Dropdown(\n",
    "        id = 'column',\n",
    "        options=[\n",
    "            {'label': 'Book rating', 'value': 'book_rating'},\n",
    "            {'label': 'Book rating count', 'value': 'book_rating_count'},\n",
    "            {'label': 'Book review count', 'value': 'book_review_count'},\n",
    "            {'label': 'Book pages', 'value': 'book_pages'},\n",
    "            {'label': 'Book format', 'value': 'book_format'},\n",
    "            {'label': 'Amazon recommanded', 'value': 'Amzn_rcmd'}\n",
    "                    ],\n",
    "        value='book_rating'\n",
    "    )\n",
    "    \n",
    "])\n",
    "@app.callback(\n",
    "    Output(\"graph\", \"figure\"), \n",
    "    [Input(\"column\", \"value\")])\n",
    "def display_hist(attr):\n",
    "#     data = np.random.normal(mean, std, size=500)\n",
    "    df=pd.read_csv('../data/books_added_amzn.csv',error_bad_lines = False)\n",
    "#     print('running')\n",
    "    fig = px.histogram(df, x=attr)\n",
    "    return fig\n",
    "if __name__ =='__main__':\n",
    "    app.run_server(port=4050)"
   ]
  },
  {
   "cell_type": "code",
   "execution_count": 11,
   "metadata": {},
   "outputs": [
    {
     "name": "stdout",
     "output_type": "stream",
     "text": [
      "Dash is running on http://127.0.0.1:4050/\n",
      "\n",
      "Dash is running on http://127.0.0.1:4050/\n",
      "\n",
      "Dash is running on http://127.0.0.1:4050/\n",
      "\n",
      "Dash is running on http://127.0.0.1:4050/\n",
      "\n",
      "Dash is running on http://127.0.0.1:4050/\n",
      "\n",
      "Dash is running on http://127.0.0.1:4050/\n",
      "\n",
      " * Serving Flask app '__main__' (lazy loading)\n",
      " * Environment: production\n",
      "\u001b[31m   WARNING: This is a development server. Do not use it in a production deployment.\u001b[0m\n",
      "\u001b[2m   Use a production WSGI server instead.\u001b[0m\n",
      " * Debug mode: off\n"
     ]
    },
    {
     "name": "stderr",
     "output_type": "stream",
     "text": [
      " * Running on http://127.0.0.1:4050/ (Press CTRL+C to quit)\n",
      "127.0.0.1 - - [20/May/2021 16:59:15] \"GET / HTTP/1.1\" 200 -\n",
      "127.0.0.1 - - [20/May/2021 16:59:16] \"GET /_dash-layout HTTP/1.1\" 200 -\n",
      "127.0.0.1 - - [20/May/2021 16:59:16] \"GET /_dash-dependencies HTTP/1.1\" 200 -\n",
      "127.0.0.1 - - [20/May/2021 16:59:16] \"POST /_dash-update-component HTTP/1.1\" 200 -\n",
      "127.0.0.1 - - [20/May/2021 16:59:16] \"GET /_favicon.ico?v=1.20.0 HTTP/1.1\" 200 -\n",
      "127.0.0.1 - - [20/May/2021 16:59:17] \"POST /_dash-update-component HTTP/1.1\" 200 -\n"
     ]
    }
   ],
   "source": [
    "app = dash.Dash()\n",
    "app.layout = html.Div([\n",
    "    dcc.Tabs(id='tabs-example', value='Data Exploration', children=[\n",
    "        dcc.Tab(label='Data Exploration', value='Data Exploration'),\n",
    "        dcc.Tab(label='Tab two', value='tab-2'),\n",
    "    ]),\n",
    "    html.Div(id='tabs-example-content')\n",
    "])\n",
    "\n",
    "@app.callback(Output('tabs-example-content', 'children'),\n",
    "              Input('tabs-example', 'value'))\n",
    "def render_content(tab):\n",
    "    if tab == 'Data Exploration':\n",
    "        return [\n",
    "                html.H1('Data Exploration'),\n",
    "            #     html.Div('Dash - data framework from plotly'),\n",
    "\n",
    "                dcc.Graph(\n",
    "                    id='graph'\n",
    "                ),\n",
    "                html.Div('Select an Attribute:'),\n",
    "\n",
    "                dcc.Dropdown(\n",
    "                    id = 'column',\n",
    "                    options=[\n",
    "                        {'label': 'Book rating', 'value': 'book_rating'},\n",
    "                        {'label': 'Book rating count', 'value': 'book_rating_count'},\n",
    "                        {'label': 'Book review count', 'value': 'book_review_count'},\n",
    "                        {'label': 'Book pages', 'value': 'book_pages'},\n",
    "                        {'label': 'Book format', 'value': 'book_format'},\n",
    "                        {'label': 'Amazon recommanded', 'value': 'Amzn_rcmd'}\n",
    "                                ],\n",
    "                    value='book_rating'\n",
    "                )\n",
    "                ]\n",
    "    \n",
    "    elif tab == 'tab-2':\n",
    "        return html.Div([\n",
    "            html.H3('Tab content 2')\n",
    "        ])\n",
    "\n",
    "@app.callback(\n",
    "    Output(\"graph\", \"figure\"), \n",
    "    [Input(\"column\", \"value\")])\n",
    "def display_hist(attr):\n",
    "#     data = np.random.normal(mean, std, size=500)\n",
    "    df=pd.read_csv('../data/books_added_amzn.csv',error_bad_lines = False)\n",
    "#     print('running')\n",
    "    fig = px.histogram(df, x=attr)\n",
    "    return fig\n",
    "\n",
    "\n",
    "if __name__ =='__main__':\n",
    "    app.run_server(port=4050)"
   ]
  },
  {
   "cell_type": "code",
   "execution_count": null,
   "metadata": {},
   "outputs": [],
   "source": [
    "df.head()"
   ]
  },
  {
   "cell_type": "code",
   "execution_count": null,
   "metadata": {},
   "outputs": [],
   "source": [
    "if __name__ =='__main__':\n",
    "    app.run_server(port=4050)"
   ]
  },
  {
   "cell_type": "code",
   "execution_count": null,
   "metadata": {},
   "outputs": [],
   "source": []
  }
 ],
 "metadata": {
  "kernelspec": {
   "display_name": "Python 3",
   "language": "python",
   "name": "python3"
  },
  "language_info": {
   "codemirror_mode": {
    "name": "ipython",
    "version": 3
   },
   "file_extension": ".py",
   "mimetype": "text/x-python",
   "name": "python",
   "nbconvert_exporter": "python",
   "pygments_lexer": "ipython3",
   "version": "3.7.4"
  }
 },
 "nbformat": 4,
 "nbformat_minor": 2
}
