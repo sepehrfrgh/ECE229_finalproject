{
 "cells": [
  {
   "cell_type": "code",
   "execution_count": 58,
   "metadata": {},
   "outputs": [],
   "source": [
    "import pandas as pd\n",
    "import numpy as np"
   ]
  },
  {
   "cell_type": "code",
   "execution_count": 59,
   "metadata": {},
   "outputs": [],
   "source": [
    "df = pd.read_csv(\"books_cleaned.csv\")"
   ]
  },
  {
   "cell_type": "code",
   "execution_count": 60,
   "metadata": {},
   "outputs": [],
   "source": [
    "#converting floats to int for pages column\n",
    "df['book_pages'] = [int(i) for i in list(df['book_pages'])]"
   ]
  },
  {
   "cell_type": "code",
   "execution_count": 61,
   "metadata": {},
   "outputs": [
    {
     "name": "stderr",
     "output_type": "stream",
     "text": [
      "/Users/fatemeh/opt/anaconda3/lib/python3.8/site-packages/pandas/core/indexing.py:671: SettingWithCopyWarning: \n",
      "A value is trying to be set on a copy of a slice from a DataFrame\n",
      "\n",
      "See the caveats in the documentation: https://pandas.pydata.org/pandas-docs/stable/user_guide/indexing.html#returning-a-view-versus-a-copy\n",
      "  self._setitem_with_indexer(indexer, value)\n"
     ]
    }
   ],
   "source": [
    "#removing duplicate genres and substituting \"|\" with \" | \"\n",
    "for i in range(len(df)):\n",
    "    gs = np.unique(df['genres'].iloc[i].split(\"|\"))\n",
    "    gs_string =''\n",
    "    for i in range(len(gs)-1):\n",
    "        gs_string+= gs[i] + \" | \"\n",
    "    gs_string += gs[-1]\n",
    "    df['genres'].iloc[i] = gs_string"
   ]
  },
  {
   "cell_type": "code",
   "execution_count": 62,
   "metadata": {},
   "outputs": [],
   "source": [
    "#deleting the \"Unnamed: 0\" column\n",
    "del df['Unnamed: 0']"
   ]
  },
  {
   "cell_type": "code",
   "execution_count": 63,
   "metadata": {},
   "outputs": [],
   "source": [
    "#capitalizing titles\n",
    "titles = [df.iloc[i]['book_title'].title() for i in range(len(df))]\n",
    "df['book_title'] = titles"
   ]
  },
  {
   "cell_type": "code",
   "execution_count": 65,
   "metadata": {},
   "outputs": [],
   "source": [
    "#capitalizing descriptions\n",
    "descs = []\n",
    "for i in range(len(df)):\n",
    "    if str(df.iloc[i]['book_desc']) != 'nan':\n",
    "        descs.append(df.iloc[i]['book_desc'].capitalize())\n",
    "    else:\n",
    "        descs.append('')\n",
    "df['book_desc'] = descs"
   ]
  },
  {
   "cell_type": "code",
   "execution_count": 97,
   "metadata": {},
   "outputs": [],
   "source": [
    "#Capitalizing names and family names of the authors\n",
    "book_authors = []\n",
    "for i in range(len(df)):\n",
    "    authors = df.iloc[i]['book_authors'].split(\"|\")\n",
    "    names = ''\n",
    "    for auth in authors:\n",
    "        auth_splitted = auth.split(\" \")\n",
    "        name = ''\n",
    "        for j in auth_splitted:\n",
    "            name += j.capitalize() + \" \"\n",
    "        names += name + \"  | \"\n",
    "    names = names[:-5]\n",
    "    book_authors.append(names)\n",
    "df['book_authors'] = book_authors"
   ]
  },
  {
   "cell_type": "code",
   "execution_count": 102,
   "metadata": {},
   "outputs": [],
   "source": [
    "df.to_csv(\"books_cleaned.csv\")"
   ]
  },
  {
   "cell_type": "code",
   "execution_count": null,
   "metadata": {},
   "outputs": [],
   "source": []
  }
 ],
 "metadata": {
  "kernelspec": {
   "display_name": "Python 3",
   "language": "python",
   "name": "python3"
  },
  "language_info": {
   "codemirror_mode": {
    "name": "ipython",
    "version": 3
   },
   "file_extension": ".py",
   "mimetype": "text/x-python",
   "name": "python",
   "nbconvert_exporter": "python",
   "pygments_lexer": "ipython3",
   "version": "3.8.3"
  }
 },
 "nbformat": 4,
 "nbformat_minor": 4
}
